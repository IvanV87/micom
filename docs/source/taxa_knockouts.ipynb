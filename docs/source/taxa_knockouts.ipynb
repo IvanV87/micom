{
 "cells": [
  {
   "cell_type": "markdown",
   "metadata": {},
   "source": [
    "# Taxa knockouts\n",
    "\n",
    "An interesting question concerning any given microbial community is how dependent the growth of one bacteria is one the presence of other bacteria. One strategy to answer that is to perform *in silico* knockouts for each individual\n",
    "taxa in a community and observe how this changes the growth rates of other bacteria. If the knowckout of one bacteria increases the growth of another one this indicates competitivity whereas a dimished growth rate indicted cooperativity. In order to get unique growth rate solutions we will again use cooperative tradeoff.\n",
    "\n",
    "For large models as managed in micom running those knockouts can be challenging due to numerical problems and the tendency of the solvers to get stuck in a previous solutions. `micom` thus implements an optimized knockout algorithms that avoids\n",
    "numerical and solver issues as much as possible. \n",
    "\n",
    "Still you should be aware that knockouts are computationally instensive due to the large numbers of quadratic and linear programming problems that have to be solved. For realistic communities with 10-500 taxa you should expect a full knockout experiment to take between 1 and 5 hours. Here we will perform the knockouts for our small *E. coli* example."
   ]
  },
  {
   "cell_type": "code",
   "execution_count": 2,
   "metadata": {},
   "outputs": [
    {
     "name": "stderr",
     "output_type": "stream",
     "text": [
      "100%|██████████| 5/5 [00:02<00:00,  2.42models/s]\n",
      "100%|██████████| 5/5 [00:00<00:00, 12.25knockout(s)/s]\n"
     ]
    },
    {
     "data": {
      "text/html": [
       "<div>\n",
       "<style scoped>\n",
       "    .dataframe tbody tr th:only-of-type {\n",
       "        vertical-align: middle;\n",
       "    }\n",
       "\n",
       "    .dataframe tbody tr th {\n",
       "        vertical-align: top;\n",
       "    }\n",
       "\n",
       "    .dataframe thead th {\n",
       "        text-align: right;\n",
       "    }\n",
       "</style>\n",
       "<table border=\"1\" class=\"dataframe\">\n",
       "  <thead>\n",
       "    <tr style=\"text-align: right;\">\n",
       "      <th>compartments</th>\n",
       "      <th>Escherichia_coli_1</th>\n",
       "      <th>Escherichia_coli_2</th>\n",
       "      <th>Escherichia_coli_3</th>\n",
       "      <th>Escherichia_coli_4</th>\n",
       "      <th>Escherichia_coli_5</th>\n",
       "    </tr>\n",
       "  </thead>\n",
       "  <tbody>\n",
       "    <tr>\n",
       "      <th>Escherichia_coli_1</th>\n",
       "      <td>-0.873922</td>\n",
       "      <td>0.229162</td>\n",
       "      <td>0.229162</td>\n",
       "      <td>0.229162</td>\n",
       "      <td>0.229162</td>\n",
       "    </tr>\n",
       "    <tr>\n",
       "      <th>Escherichia_coli_2</th>\n",
       "      <td>0.229162</td>\n",
       "      <td>-0.873922</td>\n",
       "      <td>0.229162</td>\n",
       "      <td>0.229162</td>\n",
       "      <td>0.229162</td>\n",
       "    </tr>\n",
       "    <tr>\n",
       "      <th>Escherichia_coli_3</th>\n",
       "      <td>0.229162</td>\n",
       "      <td>0.229162</td>\n",
       "      <td>-0.873922</td>\n",
       "      <td>0.229162</td>\n",
       "      <td>0.229162</td>\n",
       "    </tr>\n",
       "    <tr>\n",
       "      <th>Escherichia_coli_4</th>\n",
       "      <td>0.229162</td>\n",
       "      <td>0.229162</td>\n",
       "      <td>0.229162</td>\n",
       "      <td>-0.873922</td>\n",
       "      <td>0.229162</td>\n",
       "    </tr>\n",
       "    <tr>\n",
       "      <th>Escherichia_coli_5</th>\n",
       "      <td>0.229162</td>\n",
       "      <td>0.229162</td>\n",
       "      <td>0.229162</td>\n",
       "      <td>0.229162</td>\n",
       "      <td>-0.873922</td>\n",
       "    </tr>\n",
       "  </tbody>\n",
       "</table>\n",
       "</div>"
      ],
      "text/plain": [
       "compartments        Escherichia_coli_1  Escherichia_coli_2  \\\n",
       "Escherichia_coli_1           -0.873922            0.229162   \n",
       "Escherichia_coli_2            0.229162           -0.873922   \n",
       "Escherichia_coli_3            0.229162            0.229162   \n",
       "Escherichia_coli_4            0.229162            0.229162   \n",
       "Escherichia_coli_5            0.229162            0.229162   \n",
       "\n",
       "compartments        Escherichia_coli_3  Escherichia_coli_4  Escherichia_coli_5  \n",
       "Escherichia_coli_1            0.229162            0.229162            0.229162  \n",
       "Escherichia_coli_2            0.229162            0.229162            0.229162  \n",
       "Escherichia_coli_3           -0.873922            0.229162            0.229162  \n",
       "Escherichia_coli_4            0.229162           -0.873922            0.229162  \n",
       "Escherichia_coli_5            0.229162            0.229162           -0.873922  "
      ]
     },
     "execution_count": 2,
     "metadata": {},
     "output_type": "execute_result"
    }
   ],
   "source": [
    "from micom import Community, data\n",
    "\n",
    "tax = data.test_taxonomy()\n",
    "com = Community(tax)\n",
    "\n",
    "ko = com.knockout_species(fraction=1.0)\n",
    "ko"
   ]
  },
  {
   "cell_type": "markdown",
   "metadata": {},
   "source": [
    "By default `knockout_species` returns the changes in growth rate meaning the difference between the growth rate after the knockout and the growth rate before. Rows denote the taxa that has been kncked out and columns the changes in growth rate. As we can see all knockouts increase the growth rates of the remaining *E. coli* strains in this example which makes sense since all of them compete for the same resources. Alternatively we can also just get the new growth rates after the knockout"
   ]
  },
  {
   "cell_type": "code",
   "execution_count": 3,
   "metadata": {},
   "outputs": [
    {
     "name": "stderr",
     "output_type": "stream",
     "text": [
      "100%|██████████| 5/5 [00:00<00:00, 12.18knockout(s)/s]\n"
     ]
    },
    {
     "data": {
      "text/html": [
       "<div>\n",
       "<style scoped>\n",
       "    .dataframe tbody tr th:only-of-type {\n",
       "        vertical-align: middle;\n",
       "    }\n",
       "\n",
       "    .dataframe tbody tr th {\n",
       "        vertical-align: top;\n",
       "    }\n",
       "\n",
       "    .dataframe thead th {\n",
       "        text-align: right;\n",
       "    }\n",
       "</style>\n",
       "<table border=\"1\" class=\"dataframe\">\n",
       "  <thead>\n",
       "    <tr style=\"text-align: right;\">\n",
       "      <th>compartments</th>\n",
       "      <th>Escherichia_coli_1</th>\n",
       "      <th>Escherichia_coli_2</th>\n",
       "      <th>Escherichia_coli_3</th>\n",
       "      <th>Escherichia_coli_4</th>\n",
       "      <th>Escherichia_coli_5</th>\n",
       "    </tr>\n",
       "  </thead>\n",
       "  <tbody>\n",
       "    <tr>\n",
       "      <th>Escherichia_coli_1</th>\n",
       "      <td>0.000000</td>\n",
       "      <td>1.103083</td>\n",
       "      <td>1.103083</td>\n",
       "      <td>1.103083</td>\n",
       "      <td>1.103083</td>\n",
       "    </tr>\n",
       "    <tr>\n",
       "      <th>Escherichia_coli_2</th>\n",
       "      <td>1.103083</td>\n",
       "      <td>0.000000</td>\n",
       "      <td>1.103083</td>\n",
       "      <td>1.103083</td>\n",
       "      <td>1.103083</td>\n",
       "    </tr>\n",
       "    <tr>\n",
       "      <th>Escherichia_coli_3</th>\n",
       "      <td>1.103083</td>\n",
       "      <td>1.103083</td>\n",
       "      <td>0.000000</td>\n",
       "      <td>1.103083</td>\n",
       "      <td>1.103083</td>\n",
       "    </tr>\n",
       "    <tr>\n",
       "      <th>Escherichia_coli_4</th>\n",
       "      <td>1.103083</td>\n",
       "      <td>1.103083</td>\n",
       "      <td>1.103083</td>\n",
       "      <td>0.000000</td>\n",
       "      <td>1.103083</td>\n",
       "    </tr>\n",
       "    <tr>\n",
       "      <th>Escherichia_coli_5</th>\n",
       "      <td>1.103083</td>\n",
       "      <td>1.103083</td>\n",
       "      <td>1.103083</td>\n",
       "      <td>1.103083</td>\n",
       "      <td>0.000000</td>\n",
       "    </tr>\n",
       "  </tbody>\n",
       "</table>\n",
       "</div>"
      ],
      "text/plain": [
       "compartments        Escherichia_coli_1  Escherichia_coli_2  \\\n",
       "Escherichia_coli_1            0.000000            1.103083   \n",
       "Escherichia_coli_2            1.103083            0.000000   \n",
       "Escherichia_coli_3            1.103083            1.103083   \n",
       "Escherichia_coli_4            1.103083            1.103083   \n",
       "Escherichia_coli_5            1.103083            1.103083   \n",
       "\n",
       "compartments        Escherichia_coli_3  Escherichia_coli_4  Escherichia_coli_5  \n",
       "Escherichia_coli_1            1.103083            1.103083            1.103083  \n",
       "Escherichia_coli_2            1.103083            1.103083            1.103083  \n",
       "Escherichia_coli_3            0.000000            1.103083            1.103083  \n",
       "Escherichia_coli_4            1.103083            0.000000            1.103083  \n",
       "Escherichia_coli_5            1.103083            1.103083            0.000000  "
      ]
     },
     "execution_count": 3,
     "metadata": {},
     "output_type": "execute_result"
    }
   ],
   "source": [
    "com.knockout_species(fraction=1.0, method=\"raw\")"
   ]
  },
  {
   "cell_type": "markdown",
   "metadata": {},
   "source": [
    "...or the relative change ((new - old)/old):"
   ]
  },
  {
   "cell_type": "code",
   "execution_count": 4,
   "metadata": {},
   "outputs": [
    {
     "name": "stderr",
     "output_type": "stream",
     "text": [
      "100%|██████████| 5/5 [00:00<00:00, 11.76knockout(s)/s]\n"
     ]
    },
    {
     "data": {
      "text/html": [
       "<div>\n",
       "<style scoped>\n",
       "    .dataframe tbody tr th:only-of-type {\n",
       "        vertical-align: middle;\n",
       "    }\n",
       "\n",
       "    .dataframe tbody tr th {\n",
       "        vertical-align: top;\n",
       "    }\n",
       "\n",
       "    .dataframe thead th {\n",
       "        text-align: right;\n",
       "    }\n",
       "</style>\n",
       "<table border=\"1\" class=\"dataframe\">\n",
       "  <thead>\n",
       "    <tr style=\"text-align: right;\">\n",
       "      <th>compartments</th>\n",
       "      <th>Escherichia_coli_1</th>\n",
       "      <th>Escherichia_coli_2</th>\n",
       "      <th>Escherichia_coli_3</th>\n",
       "      <th>Escherichia_coli_4</th>\n",
       "      <th>Escherichia_coli_5</th>\n",
       "    </tr>\n",
       "  </thead>\n",
       "  <tbody>\n",
       "    <tr>\n",
       "      <th>Escherichia_coli_1</th>\n",
       "      <td>-1.000000</td>\n",
       "      <td>0.262222</td>\n",
       "      <td>0.262222</td>\n",
       "      <td>0.262222</td>\n",
       "      <td>0.262222</td>\n",
       "    </tr>\n",
       "    <tr>\n",
       "      <th>Escherichia_coli_2</th>\n",
       "      <td>0.262222</td>\n",
       "      <td>-1.000000</td>\n",
       "      <td>0.262222</td>\n",
       "      <td>0.262222</td>\n",
       "      <td>0.262222</td>\n",
       "    </tr>\n",
       "    <tr>\n",
       "      <th>Escherichia_coli_3</th>\n",
       "      <td>0.262222</td>\n",
       "      <td>0.262222</td>\n",
       "      <td>-1.000000</td>\n",
       "      <td>0.262222</td>\n",
       "      <td>0.262222</td>\n",
       "    </tr>\n",
       "    <tr>\n",
       "      <th>Escherichia_coli_4</th>\n",
       "      <td>0.262222</td>\n",
       "      <td>0.262222</td>\n",
       "      <td>0.262222</td>\n",
       "      <td>-1.000000</td>\n",
       "      <td>0.262222</td>\n",
       "    </tr>\n",
       "    <tr>\n",
       "      <th>Escherichia_coli_5</th>\n",
       "      <td>0.262222</td>\n",
       "      <td>0.262222</td>\n",
       "      <td>0.262222</td>\n",
       "      <td>0.262222</td>\n",
       "      <td>-1.000000</td>\n",
       "    </tr>\n",
       "  </tbody>\n",
       "</table>\n",
       "</div>"
      ],
      "text/plain": [
       "compartments        Escherichia_coli_1  Escherichia_coli_2  \\\n",
       "Escherichia_coli_1           -1.000000            0.262222   \n",
       "Escherichia_coli_2            0.262222           -1.000000   \n",
       "Escherichia_coli_3            0.262222            0.262222   \n",
       "Escherichia_coli_4            0.262222            0.262222   \n",
       "Escherichia_coli_5            0.262222            0.262222   \n",
       "\n",
       "compartments        Escherichia_coli_3  Escherichia_coli_4  Escherichia_coli_5  \n",
       "Escherichia_coli_1            0.262222            0.262222            0.262222  \n",
       "Escherichia_coli_2            0.262222            0.262222            0.262222  \n",
       "Escherichia_coli_3           -1.000000            0.262222            0.262222  \n",
       "Escherichia_coli_4            0.262222           -1.000000            0.262222  \n",
       "Escherichia_coli_5            0.262222            0.262222           -1.000000  "
      ]
     },
     "execution_count": 4,
     "metadata": {},
     "output_type": "execute_result"
    }
   ],
   "source": [
    "com.knockout_species(fraction=1.0, method=\"relative change\")"
   ]
  },
  {
   "cell_type": "markdown",
   "metadata": {},
   "source": [
    "In certain circumstances the diagonal entries can be confusing since the knocked out taxa always loses its entire growth. We can suppress the diagonal using the `diag` argument."
   ]
  },
  {
   "cell_type": "code",
   "execution_count": 5,
   "metadata": {},
   "outputs": [
    {
     "name": "stderr",
     "output_type": "stream",
     "text": [
      "100%|██████████| 5/5 [00:00<00:00, 11.83knockout(s)/s]\n"
     ]
    },
    {
     "data": {
      "text/html": [
       "<div>\n",
       "<style scoped>\n",
       "    .dataframe tbody tr th:only-of-type {\n",
       "        vertical-align: middle;\n",
       "    }\n",
       "\n",
       "    .dataframe tbody tr th {\n",
       "        vertical-align: top;\n",
       "    }\n",
       "\n",
       "    .dataframe thead th {\n",
       "        text-align: right;\n",
       "    }\n",
       "</style>\n",
       "<table border=\"1\" class=\"dataframe\">\n",
       "  <thead>\n",
       "    <tr style=\"text-align: right;\">\n",
       "      <th>compartments</th>\n",
       "      <th>Escherichia_coli_1</th>\n",
       "      <th>Escherichia_coli_2</th>\n",
       "      <th>Escherichia_coli_3</th>\n",
       "      <th>Escherichia_coli_4</th>\n",
       "      <th>Escherichia_coli_5</th>\n",
       "    </tr>\n",
       "  </thead>\n",
       "  <tbody>\n",
       "    <tr>\n",
       "      <th>Escherichia_coli_1</th>\n",
       "      <td>NaN</td>\n",
       "      <td>0.229162</td>\n",
       "      <td>0.229162</td>\n",
       "      <td>0.229162</td>\n",
       "      <td>0.229162</td>\n",
       "    </tr>\n",
       "    <tr>\n",
       "      <th>Escherichia_coli_2</th>\n",
       "      <td>0.229162</td>\n",
       "      <td>NaN</td>\n",
       "      <td>0.229162</td>\n",
       "      <td>0.229162</td>\n",
       "      <td>0.229162</td>\n",
       "    </tr>\n",
       "    <tr>\n",
       "      <th>Escherichia_coli_3</th>\n",
       "      <td>0.229162</td>\n",
       "      <td>0.229162</td>\n",
       "      <td>NaN</td>\n",
       "      <td>0.229162</td>\n",
       "      <td>0.229162</td>\n",
       "    </tr>\n",
       "    <tr>\n",
       "      <th>Escherichia_coli_4</th>\n",
       "      <td>0.229162</td>\n",
       "      <td>0.229162</td>\n",
       "      <td>0.229162</td>\n",
       "      <td>NaN</td>\n",
       "      <td>0.229162</td>\n",
       "    </tr>\n",
       "    <tr>\n",
       "      <th>Escherichia_coli_5</th>\n",
       "      <td>0.229162</td>\n",
       "      <td>0.229162</td>\n",
       "      <td>0.229162</td>\n",
       "      <td>0.229162</td>\n",
       "      <td>NaN</td>\n",
       "    </tr>\n",
       "  </tbody>\n",
       "</table>\n",
       "</div>"
      ],
      "text/plain": [
       "compartments        Escherichia_coli_1  Escherichia_coli_2  \\\n",
       "Escherichia_coli_1                 NaN            0.229162   \n",
       "Escherichia_coli_2            0.229162                 NaN   \n",
       "Escherichia_coli_3            0.229162            0.229162   \n",
       "Escherichia_coli_4            0.229162            0.229162   \n",
       "Escherichia_coli_5            0.229162            0.229162   \n",
       "\n",
       "compartments        Escherichia_coli_3  Escherichia_coli_4  Escherichia_coli_5  \n",
       "Escherichia_coli_1            0.229162            0.229162            0.229162  \n",
       "Escherichia_coli_2            0.229162            0.229162            0.229162  \n",
       "Escherichia_coli_3                 NaN            0.229162            0.229162  \n",
       "Escherichia_coli_4            0.229162                 NaN            0.229162  \n",
       "Escherichia_coli_5            0.229162            0.229162                 NaN  "
      ]
     },
     "execution_count": 5,
     "metadata": {},
     "output_type": "execute_result"
    }
   ],
   "source": [
    "com.knockout_species(diag=False)"
   ]
  },
  {
   "cell_type": "code",
   "execution_count": null,
   "metadata": {},
   "outputs": [],
   "source": []
  }
 ],
 "metadata": {
  "kernelspec": {
   "display_name": "Python 3",
   "language": "python",
   "name": "python3"
  },
  "language_info": {
   "codemirror_mode": {
    "name": "ipython",
    "version": 3
   },
   "file_extension": ".py",
   "mimetype": "text/x-python",
   "name": "python",
   "nbconvert_exporter": "python",
   "pygments_lexer": "ipython3",
   "version": "3.6.7"
  }
 },
 "nbformat": 4,
 "nbformat_minor": 4
}
